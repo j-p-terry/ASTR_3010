{
 "cells": [
  {
   "cell_type": "markdown",
   "id": "33364f01-2603-4e44-a0ab-4cad711f11fc",
   "metadata": {},
   "source": [
    "# Assignment 3: Spectral Analysis\n",
    "\n",
    "The purpose is this assignment is to give you experience with analyzing complex spectra from astrophysical environments. The data that you will use is a MUSE observation of the supernova remnant 1E0102. This SNR has been observed across a wide range of wavelengths from the near IR to X-rays, and a neutron star has been identified in the middle. You will use a data cube of wavelengths from $\\sim 4700 \\overset{\\circ}{A}$ to $\\sim 9400 \\overset{\\circ}{A}$ downloaded from the [ESO Science archive](https://archive.eso.org/dataset/ADP.2023-11-02T13:39:58.831). You may find [this paper](https://arxiv.org/abs/1705.05680), [this paper](https://www.nature.com/articles/s41550-018-0433-0), and [this paper](https://arxiv.org/abs/1801.06289) helpful for understanding the data. A good fits viewer will be particularly useful here. I've put some example (empty) functions that you might want to use, but you don't have to use them if you prefer not to. Remember that fits files sometimes have multiple headers, not all of which contain data."
   ]
  },
  {
   "cell_type": "markdown",
   "id": "350a9677-7102-4aa6-8b2a-59eab004fb70",
   "metadata": {},
   "source": [
    "<p style=\"font-size: 24px;\">\n",
    "    <b>Question 1</b>\n",
    "</p>\n",
    "<p style=\"font-size: 18px;\">\n",
    "    <b>What is the spectral resolution in <u><i>nanometers</i></u>? (Hint: remember that not all headers use CDELT)</b>\n",
    "</p>"
   ]
  },
  {
   "cell_type": "code",
   "execution_count": null,
   "id": "5358675c-0507-4088-8024-b3ce3ce63645",
   "metadata": {},
   "outputs": [],
   "source": []
  },
  {
   "cell_type": "code",
   "execution_count": null,
   "id": "289390ff-f18e-46d4-b859-2e73c9102351",
   "metadata": {},
   "outputs": [],
   "source": []
  },
  {
   "cell_type": "markdown",
   "id": "b5f3fc72-2753-45be-8eaf-5998b3da0612",
   "metadata": {},
   "source": [
    "<p style=\"font-size: 24px; color: blue;\">\n",
    "    <b>Answer</b>\n",
    "</p>\n",
    "\n"
   ]
  },
  {
   "cell_type": "code",
   "execution_count": null,
   "id": "c1978fc5-77eb-418b-879a-bc3e4535673d",
   "metadata": {},
   "outputs": [],
   "source": []
  },
  {
   "cell_type": "markdown",
   "id": "67a9fb8a-a316-479e-8678-3d2710aa1f07",
   "metadata": {},
   "source": [
    "<p style=\"font-size: 24px;\">\n",
    "    <b>Question 2</b>\n",
    "</p>\n",
    "<p style=\"font-size: 18px;\">\n",
    "    <b>What is the angular resolution in arcseconds?</b>\n",
    "</p>"
   ]
  },
  {
   "cell_type": "code",
   "execution_count": null,
   "id": "315e24ad-a345-4948-ac59-12fbfffba13b",
   "metadata": {},
   "outputs": [],
   "source": []
  },
  {
   "cell_type": "code",
   "execution_count": null,
   "id": "59014ad8-04b5-40b5-8c91-2f4e75c0f324",
   "metadata": {},
   "outputs": [],
   "source": []
  },
  {
   "cell_type": "markdown",
   "id": "06cc1b80-6837-4282-8404-da4cebe60247",
   "metadata": {},
   "source": [
    "<p style=\"font-size: 24px; color: blue;\">\n",
    "    <b>Answer</b>\n",
    "</p>\n",
    "\n"
   ]
  },
  {
   "cell_type": "markdown",
   "id": "9ae4c046-b4a6-4799-aae6-5c8066a1398e",
   "metadata": {},
   "source": []
  },
  {
   "cell_type": "markdown",
   "id": "cc0313c0-1437-4a7b-922b-9f2c7a4343a5",
   "metadata": {},
   "source": [
    "<p style=\"font-size: 24px;\">\n",
    "    <b>Question 3</b>\n",
    "</p>\n",
    "<p style=\"font-size: 18px;\">\n",
    "    <b>The remnant spans a very wide area with a clear inner region and a diffuse outer region (hint: this is very faint, only visible in a few lines, and very, very large). \n",
    "        <br>What is the approximate angular extent of the remnant as defined by the outer region? \n",
    "        <br>What line are you using to determine this? Justify your choice.</b>\n",
    "</p>"
   ]
  },
  {
   "cell_type": "code",
   "execution_count": null,
   "id": "d709a4cf-5a33-42b9-acc3-bd3a532c6bab",
   "metadata": {},
   "outputs": [],
   "source": []
  },
  {
   "cell_type": "code",
   "execution_count": null,
   "id": "c5a55a24-9ce6-4279-b5c6-67ee8ae96dc0",
   "metadata": {},
   "outputs": [],
   "source": []
  },
  {
   "cell_type": "markdown",
   "id": "6b2c66b5-bf0d-4322-b324-d87f9a723388",
   "metadata": {},
   "source": [
    "<p style=\"font-size: 24px; color: blue;\">\n",
    "    <b>Answer</b>\n",
    "</p>\n",
    "\n"
   ]
  },
  {
   "cell_type": "code",
   "execution_count": null,
   "id": "18ea9381-5bb4-4fe2-b135-ca7c74dc473d",
   "metadata": {},
   "outputs": [],
   "source": []
  },
  {
   "cell_type": "markdown",
   "id": "60ddc950-7451-4113-b92f-deecc964ae75",
   "metadata": {},
   "source": [
    "<p style=\"font-size: 24px;\">\n",
    "    <b>Question 4</b>\n",
    "</p>\n",
    "<p style=\"font-size: 18px;\">\n",
    "    <b>The below lines all have stong components that persist throughout most of the remnant and are moving at approximately the same speed. H $\\alpha$ is a particularly good example. These are the \"systemic lines.\" Locate the peak of one of these lines. Using that wavelength, approximately how fast is the system moving relative to us?</b>\n",
    "</p>"
   ]
  },
  {
   "cell_type": "code",
   "execution_count": null,
   "id": "1d7a23c3-3cc2-43b2-b5ec-dfb9952ed7f3",
   "metadata": {},
   "outputs": [],
   "source": [
    "# in Angstroms\n",
    "rest_wls = {\"H_alpha\": 6562.8,\n",
    "             \"H_beta\": 4861.0,\n",
    "             \"[O II]\": (7319., 7330.),\n",
    "             \"[O III]\": (4959., 5007.),\n",
    "             \"[S II]\": (6716., 6731.),\n",
    "           }"
   ]
  },
  {
   "cell_type": "code",
   "execution_count": 149,
   "id": "f459090e-cc76-4aeb-9ce4-ffd196a5711c",
   "metadata": {},
   "outputs": [],
   "source": [
    "def wavelengths_to_redshift(w_obs: float, w_ref: float) -> float:\n",
    "    pass\n",
    "    \n",
    "def redshift_to_speed(z: float) -> float:\n",
    "    pass"
   ]
  },
  {
   "cell_type": "code",
   "execution_count": null,
   "id": "aed1e95b-0c9e-4476-b287-bd208c8201db",
   "metadata": {},
   "outputs": [],
   "source": []
  },
  {
   "cell_type": "code",
   "execution_count": null,
   "id": "50531d4f-2ecd-474d-bbcb-b10524ca3432",
   "metadata": {},
   "outputs": [],
   "source": []
  },
  {
   "cell_type": "markdown",
   "id": "505c705f-fe6c-4591-9824-7c7ad46403c2",
   "metadata": {},
   "source": [
    "<p style=\"font-size: 24px; color: blue;\">\n",
    "    <b>Answer</b>\n",
    "</p>\n",
    "\n"
   ]
  },
  {
   "cell_type": "code",
   "execution_count": null,
   "id": "f8650b55-2150-4ddd-be95-49fbf531f65f",
   "metadata": {},
   "outputs": [],
   "source": []
  },
  {
   "cell_type": "markdown",
   "id": "c7c1e510-f590-4201-b21c-132148b5ffe6",
   "metadata": {},
   "source": [
    "<p style=\"font-size: 24px;\">\n",
    "    <b>Question 5</b>\n",
    "</p>\n",
    "\n",
    "<p style=\"font-size: 18px;\">\n",
    "<b>Make a plot of the [O III] 5007 line (this is approximately at 5010 $\\overset{\\circ}{A}$). The region where this is bright is the \"systemic region.\" Use WCS, proper labeling, etc. \n",
    "</p>"
   ]
  },
  {
   "cell_type": "code",
   "execution_count": null,
   "id": "2e0d49bb-be1b-457e-9898-7651765b754d",
   "metadata": {},
   "outputs": [],
   "source": []
  },
  {
   "cell_type": "code",
   "execution_count": null,
   "id": "b6046925-f3da-497c-808b-852ec27a0e7c",
   "metadata": {},
   "outputs": [],
   "source": []
  },
  {
   "cell_type": "markdown",
   "id": "dd212afc-1ce5-4ae2-950f-1368a4373e6c",
   "metadata": {},
   "source": [
    "<p style=\"font-size: 24px; color: blue;\">\n",
    "    <b>Answer</b>\n",
    "</p>\n",
    "\n"
   ]
  },
  {
   "cell_type": "code",
   "execution_count": null,
   "id": "1cdcbe4d-6a41-402a-bef0-54818b9f9f5d",
   "metadata": {},
   "outputs": [],
   "source": []
  },
  {
   "cell_type": "markdown",
   "id": "8391635e-e49b-42e3-97ee-bf02bf74b733",
   "metadata": {},
   "source": [
    "<p style=\"font-size: 24px;\">\n",
    "    <b>Question 6</b>\n",
    "</p>\n",
    "\n",
    "<p style=\"font-size: 18px;\">\n",
    "<b>There is a line that appears in some regions at roughly  4995 $\\overset{\\circ}{A}$. The place where this line is bright is the \"fast moving region.\" Plot this channel with proper WCS, etc. \n",
    "    <br>Using the rest wavelengths that are listed above, which species do you think it is? \n",
    "    <br>How fast is it moving relative to the system?</b>\n",
    "</p>"
   ]
  },
  {
   "cell_type": "code",
   "execution_count": null,
   "id": "43e8012c-43eb-428e-bd94-806d8fd66890",
   "metadata": {},
   "outputs": [],
   "source": []
  },
  {
   "cell_type": "code",
   "execution_count": null,
   "id": "c727977e-e6c6-46f0-aefe-984fbe66c871",
   "metadata": {},
   "outputs": [],
   "source": []
  },
  {
   "cell_type": "markdown",
   "id": "7421a880-7eca-4998-a5bc-2f7e846d7f0d",
   "metadata": {},
   "source": [
    "<p style=\"font-size: 24px; color: blue;\">\n",
    "    <b>Answer</b>\n",
    "</p>\n",
    "\n"
   ]
  },
  {
   "cell_type": "code",
   "execution_count": null,
   "id": "7e6c26e7-3e16-4234-a50a-84ebb2bc2c0d",
   "metadata": {},
   "outputs": [],
   "source": []
  },
  {
   "cell_type": "markdown",
   "id": "9105d387-cd30-4420-82d0-d95d02452049",
   "metadata": {},
   "source": [
    "<p style=\"font-size: 24px;\">\n",
    "    <b>Question 7</b>\n",
    "</p>\n",
    "<p style=\"font-size: 18px;\">\n",
    "<b>\n",
    "In the systemic region, fast moving region, and \n",
    "outermost region (one location in each region is fine), fit a gaussian for the [O III] 5007 systemic line (at 5010 $\\overset{\\circ}{A}$), H $\\alpha$, and H $\\beta$ (i.e., 9 total fits). \n",
    "    <br>Plot the line amplitude ratios relative your fit of H $\\alpha$ in the corresponding region. \n",
    "    <br>Make an image plot in the [O III] channel that shows which points you picked to fit (include WCS etc.). \n",
    "    <br>Make a plot of the spectra that you are fitting using Angstroms as your x axis with the lines labeled.</b>\n",
    "</p>"
   ]
  },
  {
   "cell_type": "code",
   "execution_count": 152,
   "id": "6f4b7303-3d91-4158-bded-692e6627a5ae",
   "metadata": {},
   "outputs": [],
   "source": [
    "def fit_gaussian_line(wavelengths, spectrum, \n",
    "                      amp_guess, mean_guess, sigma_guess,\n",
    "                     ):\n",
    "    pass"
   ]
  },
  {
   "cell_type": "code",
   "execution_count": null,
   "id": "180db688-1779-41ed-abc9-41c71a0d35b0",
   "metadata": {},
   "outputs": [],
   "source": []
  },
  {
   "cell_type": "code",
   "execution_count": null,
   "id": "7e406df8-7e9a-484a-84cf-d76e4df9f7cc",
   "metadata": {},
   "outputs": [],
   "source": []
  },
  {
   "cell_type": "markdown",
   "id": "8cfe7f80-bdc8-4252-9d64-e409fcf16fe0",
   "metadata": {},
   "source": [
    "<p style=\"font-size: 24px; color: blue;\">\n",
    "    <b>Answer</b>\n",
    "</p>\n",
    "\n"
   ]
  },
  {
   "cell_type": "code",
   "execution_count": null,
   "id": "1b8e223a-462a-4f00-b330-851b8b96282a",
   "metadata": {},
   "outputs": [],
   "source": []
  },
  {
   "cell_type": "markdown",
   "id": "4c1215b2-9107-4838-9ded-76eec3f50e50",
   "metadata": {},
   "source": [
    "<p style=\"font-size: 24px;\">\n",
    "    <b>Question 8</b>\n",
    "</p>\n",
    "<p style=\"font-size: 18px;\">\n",
    "<b>Fit both lines of the [S II] doublet (rest wavelengths of 6716, 6731 $\\overset{\\circ}{A}$, although they are slightly shifted in the observation to about 6720 and 6735) simultaneously using the same locations as the previous fits (i.e., 3 fits of 2 lines). \n",
    "    <br>Plot the line ratios of each line relative to the previously fit [O III] line at the corresponding locations.</b>\n",
    "</p>"
   ]
  },
  {
   "cell_type": "code",
   "execution_count": 151,
   "id": "3b4c0b8d-2ada-4186-8fc7-faf80e2c4dc3",
   "metadata": {},
   "outputs": [],
   "source": [
    "def fit_two_lines_at_once(wavelengths, spectrum, \n",
    "                          amp1_guess, mean1_guess, sigma1_guess,\n",
    "                          amp2_guess, mean2_guess, sigma2_guess,\n",
    "                         ):\n",
    "    pass"
   ]
  },
  {
   "cell_type": "code",
   "execution_count": null,
   "id": "d7096f05-2a43-46cb-9abe-d0cc0e6025e9",
   "metadata": {},
   "outputs": [],
   "source": []
  },
  {
   "cell_type": "code",
   "execution_count": null,
   "id": "d1a68461-ba5b-46d6-91fb-d43b50d3dac0",
   "metadata": {},
   "outputs": [],
   "source": []
  },
  {
   "cell_type": "markdown",
   "id": "4d5cebc2-57e4-4571-9fcd-ccf8637e0c59",
   "metadata": {},
   "source": [
    "<p style=\"font-size: 24px; color: blue;\">\n",
    "    <b>Answer</b>\n",
    "</p>\n",
    "\n"
   ]
  },
  {
   "cell_type": "code",
   "execution_count": null,
   "id": "c692f786-4d3b-4d60-ac23-32515fb16bf2",
   "metadata": {},
   "outputs": [],
   "source": []
  }
 ],
 "metadata": {
  "kernelspec": {
   "display_name": "Python 3 (ipykernel)",
   "language": "python",
   "name": "python3"
  },
  "language_info": {
   "codemirror_mode": {
    "name": "ipython",
    "version": 3
   },
   "file_extension": ".py",
   "mimetype": "text/x-python",
   "name": "python",
   "nbconvert_exporter": "python",
   "pygments_lexer": "ipython3",
   "version": "3.10.15"
  }
 },
 "nbformat": 4,
 "nbformat_minor": 5
}
