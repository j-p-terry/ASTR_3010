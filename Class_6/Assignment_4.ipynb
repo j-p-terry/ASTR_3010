{
 "cells": [
  {
   "cell_type": "markdown",
   "id": "ba4fad78-e497-438d-b82b-2a45e840082f",
   "metadata": {},
   "source": [
    "# Assignment 4: Exoplanet Transits"
   ]
  },
  {
   "cell_type": "markdown",
   "id": "555950db-1f3f-4f2f-86ed-6056c1cfe517",
   "metadata": {},
   "source": [
    "This assigment will deal with exoplanet transit curves. The data is a fits binary table found [here](https://drive.google.com/file/d/1hTjKc_v4Y5wMMQVkE5G5upz14Go_hSBw/view?usp=sharing). You will be responsible for various tasks regarding simple analyses of the light curves in an attempt to get estimates of important information of the planets in the data."
   ]
  },
  {
   "cell_type": "markdown",
   "id": "4fa45b2c-c56a-4263-9a09-c7997b3e13c8",
   "metadata": {},
   "source": [
    "There are light curves for 2 different planets in the fits file. You will be responsible for determining what planets they are. Both are in the Kepler 37 system. You will decide which one is [Kepler 37c](https://exo.mast.stsci.edu/exomast_planet.html?planet=Kepler37c) and [Kepler 37d](https://exo.mast.stsci.edu/exomast_planet.html?planet=Kepler37d)."
   ]
  },
  {
   "cell_type": "markdown",
   "id": "7aec6c99-2dbe-4c1b-b351-f772f706f264",
   "metadata": {},
   "source": [
    "<p style=\"font-size: 24px;\">\n",
    "    <b>Question 1</b>\n",
    "    <br>\n",
    "    The system has a Kepler ID. What is it? Hint: it's not 37.\n",
    "</p>"
   ]
  },
  {
   "cell_type": "code",
   "execution_count": null,
   "id": "174e5440-8d9f-4114-8b03-ba6084bf9817",
   "metadata": {},
   "outputs": [],
   "source": []
  },
  {
   "cell_type": "markdown",
   "id": "f0f5ebef-d845-43f0-b388-1eb9756307ee",
   "metadata": {},
   "source": [
    "<p style=\"font-size: 24px; color: blue;\">\n",
    "    <b>Answer</b>\n",
    "</p>\n"
   ]
  },
  {
   "cell_type": "code",
   "execution_count": null,
   "id": "5c4fc5bf-37a7-4165-b3e7-027085194a9c",
   "metadata": {},
   "outputs": [],
   "source": []
  },
  {
   "cell_type": "markdown",
   "id": "5e7e3bba-0f7e-48e6-9594-199d657c1c05",
   "metadata": {},
   "source": [
    "<p style=\"font-size: 24px;\">\n",
    "    <b>Question 2</b>\n",
    "    <br>\n",
    "    What are the temperature and radius of the star?\n",
    "</p>"
   ]
  },
  {
   "cell_type": "code",
   "execution_count": null,
   "id": "ba7bc99a-e6ab-4626-9565-663ff4c76606",
   "metadata": {},
   "outputs": [],
   "source": []
  },
  {
   "cell_type": "markdown",
   "id": "6a84cd0a-41bd-48d2-a356-1f6ae391bbdc",
   "metadata": {},
   "source": [
    "<p style=\"font-size: 24px; color: blue;\">\n",
    "    <b>Answer</b>\n",
    "</p>\n"
   ]
  },
  {
   "cell_type": "code",
   "execution_count": null,
   "id": "06aee4e6-1c62-489e-a330-5e89a5669a9d",
   "metadata": {},
   "outputs": [],
   "source": []
  },
  {
   "cell_type": "markdown",
   "id": "77a89a83-566f-42f6-af48-915a9cd7480f",
   "metadata": {},
   "source": [
    "<p style=\"font-size: 24px;\">\n",
    "    <b>Question 3</b>\n",
    "    <br>\n",
    "    A different number of transits were observed for each planet. Give these numbers.\n",
    "</p>"
   ]
  },
  {
   "cell_type": "code",
   "execution_count": null,
   "id": "15a117c4-2376-46df-a0ef-7ceace1cc212",
   "metadata": {},
   "outputs": [],
   "source": []
  },
  {
   "cell_type": "markdown",
   "id": "ab173d2c-ba4d-4bbc-ad05-9fc3c7a7a6f0",
   "metadata": {},
   "source": [
    "<p style=\"font-size: 24px; color: blue;\">\n",
    "    <b>Answer</b>\n",
    "</p>\n"
   ]
  },
  {
   "cell_type": "code",
   "execution_count": null,
   "id": "9d8db863-98bc-4c97-99f8-30198f7bd8c3",
   "metadata": {},
   "outputs": [],
   "source": []
  },
  {
   "cell_type": "markdown",
   "id": "a1abd75e-218d-470d-a3b3-ced214470811",
   "metadata": {},
   "source": [
    "<p style=\"font-size: 24px;\">\n",
    "    <b>Question 4</b>\n",
    "    <br>\n",
    "    Plot the raw light curves for both planets.\n",
    "</p>"
   ]
  },
  {
   "cell_type": "code",
   "execution_count": null,
   "id": "20496b07-6442-402e-8e34-d7dc022eafae",
   "metadata": {},
   "outputs": [],
   "source": []
  },
  {
   "cell_type": "code",
   "execution_count": null,
   "id": "835cb07d-7052-4d54-ad62-c3c7cc4c348c",
   "metadata": {},
   "outputs": [],
   "source": []
  },
  {
   "cell_type": "markdown",
   "id": "52da0fc7-f57c-420a-a994-0d7debd3d504",
   "metadata": {},
   "source": [
    "<p style=\"font-size: 24px;\">\n",
    "    <b>Question 5</b>\n",
    "    <br>\n",
    "    Plot the phase-averaged light curves and the fit model for each planet.\n",
    "</p>"
   ]
  },
  {
   "cell_type": "code",
   "execution_count": null,
   "id": "b1cab191-96d0-4fed-8f91-befec0293320",
   "metadata": {},
   "outputs": [],
   "source": []
  },
  {
   "cell_type": "code",
   "execution_count": null,
   "id": "43642553-eb66-465c-bf5e-6a75b1e3c995",
   "metadata": {},
   "outputs": [],
   "source": []
  },
  {
   "cell_type": "markdown",
   "id": "911b5c46-2339-4207-a6e5-700cec04c698",
   "metadata": {},
   "source": [
    "<p style=\"font-size: 24px;\">\n",
    "    <b>Question 6</b>\n",
    "    <br>\n",
    "    Calculate the transit depth using the fit model. \n",
    "    <br>\n",
    "    Use this value to estimate the planet's radius.\n",
    "    <br>\n",
    "    Compare this to the value given in the header. What is the percent difference?\n",
    "</p>"
   ]
  },
  {
   "cell_type": "code",
   "execution_count": null,
   "id": "15463d88-17e7-4964-b28e-3d05c93fe1f8",
   "metadata": {},
   "outputs": [],
   "source": []
  },
  {
   "cell_type": "code",
   "execution_count": null,
   "id": "438e257e-5459-4a9d-adf8-667d97014dce",
   "metadata": {},
   "outputs": [],
   "source": []
  },
  {
   "cell_type": "code",
   "execution_count": null,
   "id": "6e4cdf1c-b941-490e-bef7-0177688604ef",
   "metadata": {},
   "outputs": [],
   "source": []
  },
  {
   "cell_type": "markdown",
   "id": "fc748a26-78e7-4bb6-a222-1857ac30e2da",
   "metadata": {},
   "source": [
    "<p style=\"font-size: 24px; color: blue;\">\n",
    "    <b>Answer</b>\n",
    "</p>\n"
   ]
  },
  {
   "cell_type": "code",
   "execution_count": null,
   "id": "6dcadbca-1cec-475c-bc34-77c2255ecdde",
   "metadata": {},
   "outputs": [],
   "source": []
  },
  {
   "cell_type": "markdown",
   "id": "fb7f795b-ee46-4fa4-b2a9-fba6ace2e2d9",
   "metadata": {},
   "source": [
    "<p style=\"font-size: 24px;\">\n",
    "    <b>Question 7</b>\n",
    "    <br>\n",
    "    For each planet, make a plot that is zoomed in on the transit. \n",
    "    <br>\n",
    "    Approximate the time of the phase when the planet starts to transit and when the planet has fully eclipsed the star.\n",
    "    <br>\n",
    "    Put vertical lines at these times on the plots.\n",
    "</p>"
   ]
  },
  {
   "cell_type": "code",
   "execution_count": null,
   "id": "bfaad294-fc40-408d-80a8-ba8b33dddc7f",
   "metadata": {},
   "outputs": [],
   "source": []
  },
  {
   "cell_type": "markdown",
   "id": "0f9f36b0-13df-40ca-ae5c-4bb83cf7ed06",
   "metadata": {},
   "source": [
    "<p style=\"font-size: 24px; color: blue;\">\n",
    "    <b>Answer</b>\n",
    "</p>\n"
   ]
  },
  {
   "cell_type": "code",
   "execution_count": null,
   "id": "02ca8cca-d823-4829-9e1a-33137bd0796b",
   "metadata": {},
   "outputs": [],
   "source": []
  },
  {
   "cell_type": "code",
   "execution_count": null,
   "id": "116fbb2d-7318-481d-b233-fc094fc039ac",
   "metadata": {},
   "outputs": [],
   "source": []
  },
  {
   "cell_type": "code",
   "execution_count": null,
   "id": "9d4ced96-d876-4edb-ad41-32ad70144a14",
   "metadata": {},
   "outputs": [],
   "source": []
  },
  {
   "cell_type": "markdown",
   "id": "71318180-24ef-43fe-83b4-a66b945d4826",
   "metadata": {},
   "source": [
    "<p style=\"font-size: 24px;\">\n",
    "    <b>Question 8</b>\n",
    "    <br>\n",
    "    Use Kepler's 3rd law to approximate the semimajor axis of each planet. \n",
    "    <br>\n",
    "    Use the fits headers to approximate the semimajor axis of each planet.\n",
    "    <br>\n",
    "    What is the percent difference?\n",
    "</p>"
   ]
  },
  {
   "cell_type": "code",
   "execution_count": null,
   "id": "2bbddd5d-434d-48bd-956f-53977fee3659",
   "metadata": {},
   "outputs": [],
   "source": []
  },
  {
   "cell_type": "markdown",
   "id": "962aeba0-31b1-4b68-82cd-29333a644e16",
   "metadata": {},
   "source": [
    "<p style=\"font-size: 24px; color: blue;\">\n",
    "    <b>Answer</b>\n",
    "</p>\n"
   ]
  },
  {
   "cell_type": "code",
   "execution_count": null,
   "id": "67e54faf-8fbe-432b-becb-3af8df38f388",
   "metadata": {},
   "outputs": [],
   "source": []
  },
  {
   "cell_type": "code",
   "execution_count": null,
   "id": "d5011b38-af75-4ad7-9375-495a89204f9c",
   "metadata": {},
   "outputs": [],
   "source": []
  },
  {
   "cell_type": "markdown",
   "id": "52ae5684-5640-4ef4-b685-c3336f67119f",
   "metadata": {},
   "source": [
    "<p style=\"font-size: 24px;\">\n",
    "    <b>Question 9</b>\n",
    "    <br>\n",
    "    Using your answers to the previous questions and the data given in the links, which HDU index corresponds to Kepler 37c?\n",
    "</p>"
   ]
  },
  {
   "cell_type": "code",
   "execution_count": null,
   "id": "9ef54ace-240b-4dc0-8c8c-12dd9d2ddd98",
   "metadata": {},
   "outputs": [],
   "source": []
  },
  {
   "cell_type": "markdown",
   "id": "a29c07f1-45fd-48c9-b37e-cf15a50faf7b",
   "metadata": {},
   "source": [
    "<p style=\"font-size: 24px; color: blue;\">\n",
    "    <b>Answer</b>\n",
    "</p>\n"
   ]
  },
  {
   "cell_type": "code",
   "execution_count": null,
   "id": "cb53a779-3e38-4cb8-a91b-e07e2f02d6ee",
   "metadata": {},
   "outputs": [],
   "source": []
  },
  {
   "cell_type": "markdown",
   "id": "eea7aa48-e5ac-4809-b7e0-2d837217a6b5",
   "metadata": {},
   "source": [
    "<p style=\"font-size: 24px;\">\n",
    "    <b>Question 10</b>\n",
    "    <br>\n",
    "    What is the link between this planetary system and UGA?\n",
    "</p>"
   ]
  },
  {
   "cell_type": "code",
   "execution_count": null,
   "id": "f75561e3-13a4-4fba-990d-ea891e9c4d95",
   "metadata": {},
   "outputs": [],
   "source": []
  },
  {
   "cell_type": "markdown",
   "id": "5e2b94cf-28f2-4cbd-a44c-86e9effa3aef",
   "metadata": {},
   "source": [
    "<p style=\"font-size: 24px; color: blue;\">\n",
    "    <b>Answer</b>\n",
    "</p>\n"
   ]
  },
  {
   "cell_type": "code",
   "execution_count": null,
   "id": "480a8def-1058-43db-ae85-630b800249a8",
   "metadata": {},
   "outputs": [],
   "source": []
  }
 ],
 "metadata": {
  "kernelspec": {
   "display_name": "Python 3 (ipykernel)",
   "language": "python",
   "name": "python3"
  },
  "language_info": {
   "codemirror_mode": {
    "name": "ipython",
    "version": 3
   },
   "file_extension": ".py",
   "mimetype": "text/x-python",
   "name": "python",
   "nbconvert_exporter": "python",
   "pygments_lexer": "ipython3",
   "version": "3.10.15"
  }
 },
 "nbformat": 4,
 "nbformat_minor": 5
}
