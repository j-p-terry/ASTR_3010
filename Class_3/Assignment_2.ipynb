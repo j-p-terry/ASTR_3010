{
 "cells": [
  {
   "cell_type": "markdown",
   "id": "0dc6ad1c-e5d1-4d08-8e82-8ae7f4e9d69a",
   "metadata": {},
   "source": [
    "# Assignment 2\n",
    "\n",
    "This assignment will focus on basic visualization and analysis of fits files. We will mostly be working with a data cube for SN 1987A. This was a supernova (in 1987 from our point of view) that was in the LMC. This was the closest supernova that we've observed with modern technology, and is therefore one of the most important pieces of informatiom we have about supernovae. We have observed it in both continuum and integral field spectroscopy. Recently, JWST (NIRSpec and NIRCam data from [MAST](https://mast.stsci.edu/portal/Mashup/Clients/Mast/Portal.html)) performed some of the best observations to date. Remember that all data needs to be properly cited if used in a publication."
   ]
  },
  {
   "cell_type": "markdown",
   "id": "aa429f33-adac-4061-ac4e-b4d9542ebb05",
   "metadata": {},
   "source": [
    "# Task 1\n",
    "\n",
    "## Use NIRCam continuum data\n",
    "You can find this data [here](https://drive.google.com/drive/folders/15n-rmp8OhaunxGHhF3s0EQlObcK9j2qe?usp=drive_link)\n",
    "\n",
    "\n",
    "Watch out...these might have multiple headers"
   ]
  },
  {
   "cell_type": "code",
   "execution_count": null,
   "id": "bc9d43b3-213e-4896-ab41-d91b35295696",
   "metadata": {},
   "outputs": [],
   "source": [
    "#### Imports ####\n",
    "\n"
   ]
  },
  {
   "cell_type": "code",
   "execution_count": 63,
   "id": "09d35369-a969-4ca9-9fd5-f9bdb705dcf7",
   "metadata": {},
   "outputs": [],
   "source": []
  },
  {
   "cell_type": "code",
   "execution_count": 6,
   "id": "d1a743d5-6fb7-4393-b35e-11b3c2ee6dd2",
   "metadata": {},
   "outputs": [],
   "source": [
    "# Locate the data\n",
    "data_path = \"\"\n",
    "\n"
   ]
  },
  {
   "cell_type": "code",
   "execution_count": null,
   "id": "d9db7a9a-317f-437a-b23e-5528568c1630",
   "metadata": {},
   "outputs": [],
   "source": [
    "# Load the data\n"
   ]
  },
  {
   "cell_type": "markdown",
   "id": "9c651574-30ec-4347-b377-ee6b82030eda",
   "metadata": {},
   "source": [
    "<p style=\"font-size: 24px;\">\n",
    "    <b>Question 1</b>\n",
    "</p>\n",
    "<p style=\"font-size: 18px;\">\n",
    "    <b>What date was the observation?</b>\n",
    "</p>"
   ]
  },
  {
   "cell_type": "code",
   "execution_count": null,
   "id": "1ea4b099-cab9-47b4-bf15-97342dad33a5",
   "metadata": {},
   "outputs": [],
   "source": []
  },
  {
   "cell_type": "code",
   "execution_count": null,
   "id": "7b001aad-054c-426b-b154-87531e8234fa",
   "metadata": {},
   "outputs": [],
   "source": []
  },
  {
   "cell_type": "markdown",
   "id": "7e3a189f-d483-411e-a48e-a889577042d1",
   "metadata": {},
   "source": [
    "<p style=\"font-size: 24px; color: blue;\">\n",
    "    <b>Answer</b>\n",
    "</p>\n",
    "\n"
   ]
  },
  {
   "cell_type": "markdown",
   "id": "ba09e61a-e715-47a0-90e4-33b87b16c910",
   "metadata": {},
   "source": []
  },
  {
   "cell_type": "code",
   "execution_count": null,
   "id": "b695f1e3-0b8b-4e31-86ed-dde3ae2fd483",
   "metadata": {},
   "outputs": [],
   "source": [
    "# Make a pyplot image of the data\n",
    "# Make sure the features are clear, which will probably mean playing with vmin and vmax\n",
    "# Make it pretty\n"
   ]
  },
  {
   "cell_type": "code",
   "execution_count": null,
   "id": "eee224cf-d782-4c61-8bc4-aafa2b8f53c9",
   "metadata": {},
   "outputs": [],
   "source": [
    "# Make a plot image of the data including WCS and observation units\n",
    "\n"
   ]
  },
  {
   "cell_type": "markdown",
   "id": "0ee7f993-f696-4024-bb82-49177f29b2af",
   "metadata": {},
   "source": [
    "<p style=\"font-size: 24px;\">\n",
    "    <b>Question 2</b>\n",
    "</p>\n",
    "<p style=\"font-size: 18px;\">\n",
    "    <b>There is one clear feature that does not look like anything else. This is the supernova remnant (SNR). Approximately what RA and Dec is it?</b>\n",
    "</p>"
   ]
  },
  {
   "cell_type": "code",
   "execution_count": null,
   "id": "7e432352-0c9f-4b25-bbe4-d606bee6b2ee",
   "metadata": {},
   "outputs": [],
   "source": []
  },
  {
   "cell_type": "code",
   "execution_count": null,
   "id": "435d4a16-664a-44d8-a874-3bdc57bde071",
   "metadata": {},
   "outputs": [],
   "source": []
  },
  {
   "cell_type": "markdown",
   "id": "3b0aeee7-6769-443c-83c1-cdc44edd2bbc",
   "metadata": {},
   "source": [
    "<p style=\"font-size: 24px; color: blue;\">\n",
    "    <b>Answer</b>\n",
    "</p>\n",
    "\n"
   ]
  },
  {
   "cell_type": "markdown",
   "id": "5b48b7d6-df32-4736-a861-5b837ec616b9",
   "metadata": {},
   "source": []
  },
  {
   "cell_type": "code",
   "execution_count": 70,
   "id": "2715c7b2-a272-47e4-97a2-7e1026ea2c19",
   "metadata": {},
   "outputs": [],
   "source": [
    "# Make a plot that's zoomed in on the SNR\n",
    "# Again, include WCS etc.\n",
    "\n"
   ]
  },
  {
   "cell_type": "markdown",
   "id": "ee3d3a25-e006-478e-9edf-85927f59cafc",
   "metadata": {},
   "source": [
    "<p style=\"font-size: 24px;\">\n",
    "    <b>Question 3</b>\n",
    "</p>\n",
    "<p style=\"font-size: 18px;\">\n",
    "    <b>What is the approximate angular size of the SNR? Both RA and Dec. (Hint: use the header)</b>\n",
    "</p>"
   ]
  },
  {
   "cell_type": "code",
   "execution_count": null,
   "id": "0b85e8ab-a1f9-4a91-ab1f-0510b175f38b",
   "metadata": {},
   "outputs": [],
   "source": []
  },
  {
   "cell_type": "code",
   "execution_count": null,
   "id": "26fd1852-e902-4c84-9fba-df09e925c014",
   "metadata": {},
   "outputs": [],
   "source": []
  },
  {
   "cell_type": "markdown",
   "id": "b30ec479-1873-4bb6-aa68-bf453a6ef0c5",
   "metadata": {},
   "source": [
    "<p style=\"font-size: 24px; color: blue;\">\n",
    "    <b>Answer</b>\n",
    "</p>\n",
    "\n"
   ]
  },
  {
   "cell_type": "code",
   "execution_count": null,
   "id": "53e60cff-94c9-4a4c-80e3-cd2b55416b56",
   "metadata": {},
   "outputs": [],
   "source": []
  },
  {
   "cell_type": "markdown",
   "id": "8568b96d-ae07-40ef-b873-c60877ff4e94",
   "metadata": {},
   "source": [
    "<p style=\"font-size: 24px;\">\n",
    "    <b>Question 4</b>\n",
    "</p>\n",
    "<p style=\"font-size: 18px;\">\n",
    "    <b>Using your answer from the previous question and the distance to the remnant, what are the approximate physical dimensions of the remnant in AU?</b>\n",
    "</p>"
   ]
  },
  {
   "cell_type": "code",
   "execution_count": null,
   "id": "8c370216-2fab-477b-9c6b-0228c2e04951",
   "metadata": {},
   "outputs": [],
   "source": []
  },
  {
   "cell_type": "code",
   "execution_count": null,
   "id": "d9d2566a-c10f-449f-b666-4c6f83c12c4a",
   "metadata": {},
   "outputs": [],
   "source": []
  },
  {
   "cell_type": "markdown",
   "id": "520174ea-14e0-4255-a8ac-db29afa584ae",
   "metadata": {},
   "source": [
    "<p style=\"font-size: 24px; color: blue;\">\n",
    "    <b>Answer</b>\n",
    "</p>\n",
    "\n"
   ]
  },
  {
   "cell_type": "markdown",
   "id": "c8a61f56-a001-4623-ac5a-6bc6bb01d1f9",
   "metadata": {},
   "source": []
  },
  {
   "cell_type": "markdown",
   "id": "fa4cebb5-1a4a-4c56-bb42-13b86a5ef2a6",
   "metadata": {},
   "source": [
    "<p style=\"font-size: 24px;\">\n",
    "    <b>Question 5</b>\n",
    "</p>\n",
    "<p style=\"font-size: 18px;\">\n",
    "    <b>Using your answer from the previous question, and the time between our first observation and this observation, approximately how fast is the ejecta from the supernova moving on average along the Dec axis? </b>\n",
    "</p>"
   ]
  },
  {
   "cell_type": "code",
   "execution_count": null,
   "id": "0ff13116-4e0a-4048-8fd6-e3222c764b7f",
   "metadata": {},
   "outputs": [],
   "source": []
  },
  {
   "cell_type": "code",
   "execution_count": null,
   "id": "4adf5f77-9988-466d-a8e3-fb3c78c7b074",
   "metadata": {},
   "outputs": [],
   "source": []
  },
  {
   "cell_type": "markdown",
   "id": "e493b514-a584-449d-a7b7-140f10aa3f58",
   "metadata": {},
   "source": [
    "<p style=\"font-size: 24px; color: blue;\">\n",
    "    <b>Answer</b>\n",
    "</p>\n",
    "\n"
   ]
  },
  {
   "cell_type": "markdown",
   "id": "91af22e6-a625-41c8-9e74-61abf24d14ab",
   "metadata": {},
   "source": []
  },
  {
   "cell_type": "code",
   "execution_count": 158,
   "id": "e67506e7-7835-4d4f-8ced-7cd12391b235",
   "metadata": {},
   "outputs": [],
   "source": [
    "### Plot a profile of the intensity up the declination axis vs physical size in au\n",
    "### On the same plot, add a profile of the intensity acrros the RA axis vs physical size in au\n",
    "### Only focus on the remnant\n",
    "### Make sure there are legends, titles, units, etc.\n",
    "\n"
   ]
  },
  {
   "cell_type": "code",
   "execution_count": null,
   "id": "2b476f25-1a87-46cf-a6ca-50cbb43629b5",
   "metadata": {},
   "outputs": [],
   "source": []
  },
  {
   "cell_type": "code",
   "execution_count": null,
   "id": "39ef03cb-6856-445b-8a3e-e67ae18e87f4",
   "metadata": {},
   "outputs": [],
   "source": []
  },
  {
   "cell_type": "code",
   "execution_count": null,
   "id": "3cabcf9b-b00d-44d2-9f75-619601df1e7d",
   "metadata": {},
   "outputs": [],
   "source": []
  },
  {
   "cell_type": "markdown",
   "id": "257419fe-62bc-4f30-84af-efde220dce87",
   "metadata": {},
   "source": [
    "## NIRSpec Data Cube\n",
    "\n",
    "You can find this data [here](https://drive.google.com/drive/folders/1i8dLtneqdfqBtQhMil937lAeNa4QV80d?usp=sharing)"
   ]
  },
  {
   "cell_type": "code",
   "execution_count": null,
   "id": "c18f5417-dc9f-4b37-87ff-937850f8cb21",
   "metadata": {},
   "outputs": [],
   "source": [
    "### Load the data\n",
    "\n"
   ]
  },
  {
   "cell_type": "markdown",
   "id": "097eb6aa-a63c-47a2-9ffe-e95d96cdaa09",
   "metadata": {},
   "source": [
    "<p style=\"font-size: 24px;\">\n",
    "    <b>Question 6</b>\n",
    "</p>\n",
    "<p style=\"font-size: 18px;\">\n",
    "    <b>Were the NIRSpec and NIRCam images taken on the same day? </b>\n",
    "</p>"
   ]
  },
  {
   "cell_type": "code",
   "execution_count": null,
   "id": "d0d44a90-673c-41ce-bbd1-2220584fc43f",
   "metadata": {},
   "outputs": [],
   "source": []
  },
  {
   "cell_type": "markdown",
   "id": "4dc0499f-ed11-463e-b64e-7125c074f304",
   "metadata": {},
   "source": [
    "<p style=\"font-size: 24px; color: blue;\">\n",
    "    <b>Answer</b>\n",
    "</p>\n",
    "\n"
   ]
  },
  {
   "cell_type": "code",
   "execution_count": null,
   "id": "341602eb-92d0-46ed-9c8d-a119eaeee1e0",
   "metadata": {},
   "outputs": [],
   "source": []
  },
  {
   "cell_type": "markdown",
   "id": "ac4f8be9-5eb6-4ab4-8158-cd39a6b9bc28",
   "metadata": {},
   "source": [
    "<p style=\"font-size: 24px;\">\n",
    "    <b>Question 7</b>\n",
    "</p>\n",
    "<p style=\"font-size: 18px;\">\n",
    "    <b>Quantify the difference in angular resolution between NIRCam and NIRSpec</b>\n",
    "</p>"
   ]
  },
  {
   "cell_type": "code",
   "execution_count": null,
   "id": "4cec488f-a82d-4a51-8052-4271393bfa8b",
   "metadata": {},
   "outputs": [],
   "source": []
  },
  {
   "cell_type": "markdown",
   "id": "b8689136-7396-4607-bcd0-3be74491d754",
   "metadata": {},
   "source": [
    "<p style=\"font-size: 24px; color: blue;\">\n",
    "    <b>Answer</b>\n",
    "</p>\n",
    "\n"
   ]
  },
  {
   "cell_type": "markdown",
   "id": "240854f6-ddb5-4ce1-978a-3664a5c728e0",
   "metadata": {},
   "source": []
  },
  {
   "cell_type": "code",
   "execution_count": 167,
   "id": "df3fa8e4-d419-4c9f-9266-dca9f471face",
   "metadata": {},
   "outputs": [],
   "source": [
    "#### Plot a few channels that show the remnant clearly\n",
    "#### Add the units, WCS, and put the wavelength in microns as a title\n",
    "\n"
   ]
  },
  {
   "cell_type": "code",
   "execution_count": null,
   "id": "284d0f9b-5170-4dee-b6e9-b2f1097fb3e1",
   "metadata": {},
   "outputs": [],
   "source": []
  },
  {
   "cell_type": "code",
   "execution_count": null,
   "id": "f1e5b892-68e9-426f-a78e-4db85c77c07e",
   "metadata": {},
   "outputs": [],
   "source": []
  },
  {
   "cell_type": "code",
   "execution_count": null,
   "id": "6f46a87b-be3c-4be6-a088-1ed235184961",
   "metadata": {},
   "outputs": [],
   "source": [
    "#### For those same channels, plot the approximated error data (hint: other extension)\n",
    "\n",
    "\n"
   ]
  },
  {
   "cell_type": "code",
   "execution_count": null,
   "id": "0126e5be-51f3-4cd3-808f-8dfacbe1a1b5",
   "metadata": {},
   "outputs": [],
   "source": []
  },
  {
   "cell_type": "code",
   "execution_count": null,
   "id": "dd76c112-d269-45a2-b8d7-bef3ecb48564",
   "metadata": {},
   "outputs": [],
   "source": []
  },
  {
   "cell_type": "code",
   "execution_count": null,
   "id": "be469a2c-de4b-4c6e-b60c-b91a3df5bc81",
   "metadata": {},
   "outputs": [],
   "source": [
    "#### Using one plot, show line profiles of the: center, Northern part of the ring, and Western Part of the Ring\n",
    "#### Include the error estimates for those same pixels\n",
    "#### Make an additional plot showing which pixels you used\n",
    "\n",
    "\n"
   ]
  },
  {
   "cell_type": "code",
   "execution_count": null,
   "id": "b7babca1-fe5a-4ecd-b86a-6111dd3f0f4a",
   "metadata": {},
   "outputs": [],
   "source": []
  },
  {
   "cell_type": "markdown",
   "id": "e0ae353b-54d0-4941-8c3e-f3c889f28e26",
   "metadata": {},
   "source": [
    "<p style=\"font-size: 24px;\">\n",
    "    <b>Question 8</b>\n",
    "</p>\n",
    "<p style=\"font-size: 18px;\">\n",
    "    <b>Which region is the most distinct spectrally? Is there a physical reason why this may be?</b>\n",
    "</p>\n",
    "\n",
    "<p style=\"font-size: 24px; color: blue;\">\n",
    "    <b>Answer</b>\n",
    "</p>\n"
   ]
  },
  {
   "cell_type": "markdown",
   "id": "4117d358-3b3a-462f-a2b4-48e1f2f53d1e",
   "metadata": {},
   "source": []
  },
  {
   "cell_type": "code",
   "execution_count": null,
   "id": "91375a64-99c9-4b74-b078-b52c293d0d9e",
   "metadata": {},
   "outputs": [],
   "source": []
  },
  {
   "cell_type": "code",
   "execution_count": null,
   "id": "2bb8480a-f4d4-4961-b0dd-e721847a93ef",
   "metadata": {},
   "outputs": [],
   "source": [
    "### Make a plot of the signal to noise ratio at each wavelength for each of those points \n",
    "### (just be simple, don't worry about statistics, etc.)\n",
    "\n"
   ]
  },
  {
   "cell_type": "code",
   "execution_count": null,
   "id": "e3a2e3f1-e868-4b36-a580-53bebc1c44f4",
   "metadata": {},
   "outputs": [],
   "source": []
  },
  {
   "cell_type": "code",
   "execution_count": null,
   "id": "d9f6bcfe-74ca-4f91-ab42-ec5823c091da",
   "metadata": {},
   "outputs": [],
   "source": []
  }
 ],
 "metadata": {
  "kernelspec": {
   "display_name": "Python 3 (ipykernel)",
   "language": "python",
   "name": "python3"
  },
  "language_info": {
   "codemirror_mode": {
    "name": "ipython",
    "version": 3
   },
   "file_extension": ".py",
   "mimetype": "text/x-python",
   "name": "python",
   "nbconvert_exporter": "python",
   "pygments_lexer": "ipython3",
   "version": "3.10.15"
  }
 },
 "nbformat": 4,
 "nbformat_minor": 5
}
