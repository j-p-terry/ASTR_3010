{
 "cells": [
  {
   "cell_type": "markdown",
   "id": "e87e8cd5-849b-4ebb-b009-a92a41040dfa",
   "metadata": {},
   "source": [
    "# Assignment 1 - Python Scripting\n",
    "\n",
    "The purpose of this assignment will be to demonstrate that you understand the basic of Python. You will be asked to do a variety of tasks that you should complete with original code. The code should be well-documented when necessary and have comments throughout. It is important to always use meaningful variables names. Don't just call everything x, y, etc. unless that's actually what the variable is. You will be scored on the successful completion of the tasks, the readability of your code, and your explanations of your methods and conclusons. This notebook is designed to give you a skeleton that you can fill out. Answer all questions that are posed in it (double click markdown cells to edit, or just add your own). These tasks are simple enough and easily verifiable, so ChatGPT or something similar should not be used. You may need to look up certain functions.\n",
    "\n",
    "You must email me the notebook or upload it to a google drive before the start of the next class. "
   ]
  },
  {
   "cell_type": "markdown",
   "id": "9bbddb12-5848-4e8b-a761-b5bd1d80c015",
   "metadata": {},
   "source": [
    "## Task 1: Logic"
   ]
  },
  {
   "cell_type": "markdown",
   "id": "888fff1e-39a3-4bc2-894d-e87c552aef54",
   "metadata": {},
   "source": [
    "Using list comprehension, make an array that has all numbers between 0-20 (inclusive) that aren't multiples of 3 or 5"
   ]
  },
  {
   "cell_type": "code",
   "execution_count": 9,
   "id": "ca734f28-4f5c-4bb2-bb53-e0fb794af6a8",
   "metadata": {},
   "outputs": [],
   "source": [
    "my_array = [...]"
   ]
  },
  {
   "cell_type": "markdown",
   "id": "6e4b96f9-c5c1-4e53-9fb3-821666ca9f6b",
   "metadata": {},
   "source": [
    "Using whatever method you desire (other than numpy), make a 5x5 array that is zero above the diagonal and 1 below it"
   ]
  },
  {
   "cell_type": "code",
   "execution_count": 8,
   "id": "580dfbe1-7e79-4d88-907e-1e1f7aaa9281",
   "metadata": {},
   "outputs": [],
   "source": [
    "my_array = [[...]]"
   ]
  },
  {
   "cell_type": "markdown",
   "id": "50f9c9e5-7900-4bb6-b29b-70259d53e3d1",
   "metadata": {},
   "source": [
    "__Why did you choose this method?__\n",
    "\n",
    "- Answer:\n",
    "\n"
   ]
  },
  {
   "cell_type": "markdown",
   "id": "f4459d7e-2c9e-4600-9090-bb4a0406a98e",
   "metadata": {},
   "source": [
    "Using the given array, sort it in descending order without using built-in sort functions"
   ]
  },
  {
   "cell_type": "code",
   "execution_count": 10,
   "id": "33d50e8c-5381-418d-a281-b8e510e21bb5",
   "metadata": {},
   "outputs": [],
   "source": [
    "unsorted_array = [7, 9, 43, 0, -1, 3, 8, 86, 1, 3, 4]"
   ]
  },
  {
   "cell_type": "markdown",
   "id": "225e136f-b77e-48df-8f12-543285ed91f3",
   "metadata": {},
   "source": [
    "__Explain your method. Why does it work? Do you think it's an efficient way to do it (it's okay if the answer is no!)? Why or why not?__\n",
    "\n",
    "- Answer:"
   ]
  },
  {
   "cell_type": "markdown",
   "id": "fb1127fb-108f-4fe8-959f-3e27f3a263c4",
   "metadata": {},
   "source": [
    "## Task 2: Do some math\n",
    "\n",
    "I'm doing the imports for you now, but you'll have to do them on your own later"
   ]
  },
  {
   "cell_type": "code",
   "execution_count": 17,
   "id": "a38abeff-e005-4f5f-b39a-e6764b065842",
   "metadata": {},
   "outputs": [],
   "source": [
    "import numpy as np"
   ]
  },
  {
   "cell_type": "markdown",
   "id": "c258c55f-4019-417e-bef0-6823936b0820",
   "metadata": {},
   "source": [
    "Write a function that returns the natural logarithm of a value. Add type hinting."
   ]
  },
  {
   "cell_type": "code",
   "execution_count": 31,
   "id": "80a5fa3e-db13-45fe-9938-3564367c9c5f",
   "metadata": {},
   "outputs": [],
   "source": [
    "def ln(x):\n",
    "    \"\"\"pass does nothing\"\"\"\n",
    "    pass"
   ]
  },
  {
   "cell_type": "markdown",
   "id": "94d1fb0e-f18f-4efc-8b7d-1c0b639b544e",
   "metadata": {},
   "source": [
    "Apply this function to the following numpy array, ensuring all returned values are within the domain.\n",
    "\n",
    "Bonus points for doing it in one line"
   ]
  },
  {
   "cell_type": "code",
   "execution_count": 25,
   "id": "aa3dbfcc-1a5e-49bd-8cdd-722b0227fef1",
   "metadata": {},
   "outputs": [],
   "source": [
    "my_array = np.array([i for i in range(-3, 15)])"
   ]
  },
  {
   "cell_type": "markdown",
   "id": "40573863-f882-4564-9751-588d9f1c5ec0",
   "metadata": {},
   "source": [
    "Plot the results in matplotlib with proper x and y labels"
   ]
  },
  {
   "cell_type": "code",
   "execution_count": null,
   "id": "cab5197a-b474-4e5b-9b4a-0b40d0e478ba",
   "metadata": {},
   "outputs": [],
   "source": [
    "import matplotlib.pyplot as plt"
   ]
  },
  {
   "cell_type": "code",
   "execution_count": 32,
   "id": "9b6c1990-67b7-4a82-ae2a-8d9962908a90",
   "metadata": {},
   "outputs": [
    {
     "data": {
      "image/png": "[encoded data removed]",
      "text/plain": [
       "<Figure size 800x600 with 1 Axes>"
      ]
     },
     "metadata": {},
     "output_type": "display_data"
    }
   ],
   "source": [
    "plt.figure(figsize=(8., 6.))\n",
    "plt.plot([], [])\n",
    "plt.show()"
   ]
  },
  {
   "cell_type": "markdown",
   "id": "7d555ee3-50f3-49d3-a753-bba343a11518",
   "metadata": {},
   "source": [
    "With the same data, make a scatter plot that colors each point according to its square root. Ensure there is a colorbar that is properly labeled."
   ]
  },
  {
   "cell_type": "code",
   "execution_count": null,
   "id": "143e4666-62f5-4215-926f-fa019b62511f",
   "metadata": {},
   "outputs": [],
   "source": []
  },
  {
   "cell_type": "markdown",
   "id": "54d8b453-6a89-4173-a76a-dbd38dbad1b2",
   "metadata": {},
   "source": [
    "__Explain your choice of colormap__\n",
    "\n",
    "- Answer"
   ]
  },
  {
   "cell_type": "markdown",
   "id": "0e798b72-5c22-44d7-b234-8e0c23a9f22c",
   "metadata": {},
   "source": [
    "Write a function that plots a wide range of x values with against $y = 2^{x}$. Use a logarithmic scale on the y-axis and put a legend that describes what the function is."
   ]
  },
  {
   "cell_type": "code",
   "execution_count": null,
   "id": "0c75fd0d-b13d-4d87-8802-7033d0b36059",
   "metadata": {},
   "outputs": [],
   "source": []
  },
  {
   "cell_type": "code",
   "execution_count": null,
   "id": "e9e58ab0-be1a-4a39-9a9d-531523d9bca6",
   "metadata": {},
   "outputs": [],
   "source": []
  },
  {
   "cell_type": "markdown",
   "id": "f263b7f9-e8fa-4624-b303-4e7be2d6177e",
   "metadata": {},
   "source": [
    "__Explain why you calculated y in the manner that you did__\n",
    "\n",
    "- Answer"
   ]
  },
  {
   "cell_type": "markdown",
   "id": "a5eb1bf7-ac60-4739-ba99-5a747acbf976",
   "metadata": {},
   "source": [
    "Plot a Gaussian for 1,000 x values in the range \\[-100, 100\\] with a mean of x = 32 and a standard deviation of 12"
   ]
  },
  {
   "cell_type": "code",
   "execution_count": null,
   "id": "69535669-f081-44be-b0e5-50d3894cca2c",
   "metadata": {},
   "outputs": [],
   "source": []
  },
  {
   "cell_type": "markdown",
   "id": "c8bd9a26-af6a-4773-8e31-bb0cb3a65f50",
   "metadata": {},
   "source": [
    "## Task 3: Classes"
   ]
  },
  {
   "cell_type": "markdown",
   "id": "2452cb4f-4aac-48ee-857f-0e5f4d436aad",
   "metadata": {},
   "source": [
    "Define an object that is a card from a standard deck of cards (52 cards, 4 suits). Ensure it gives a full description of the card, including whether and what face card it is."
   ]
  },
  {
   "cell_type": "code",
   "execution_count": 35,
   "id": "b0375254-e9f9-48aa-abec-9508030a5300",
   "metadata": {},
   "outputs": [],
   "source": [
    "class PlayingCard():\n",
    "\n",
    "    def __init__(self):\n",
    "        pass"
   ]
  },
  {
   "cell_type": "markdown",
   "id": "2584aae1-a8c8-4f4e-971b-1e29a24ef7ca",
   "metadata": {},
   "source": [
    "Define a blackjack hand that initially has two cards. Make sure it knows if it busts."
   ]
  },
  {
   "cell_type": "code",
   "execution_count": null,
   "id": "af57a41a-8a5d-4192-a53f-bb22fa28626e",
   "metadata": {},
   "outputs": [],
   "source": []
  },
  {
   "cell_type": "markdown",
   "id": "f4a5311a-28df-4ec4-b125-f53e913a5f6c",
   "metadata": {},
   "source": [
    "Randomly create blackjack hands and define a function to \"play\" blackjack according to some rules (hit, stand, bust). It's very okay if it's bad at blackjack."
   ]
  },
  {
   "cell_type": "code",
   "execution_count": null,
   "id": "09d1f0ac-2f2c-4b26-ae37-480483304b6d",
   "metadata": {},
   "outputs": [],
   "source": []
  },
  {
   "cell_type": "markdown",
   "id": "f5d6bc43-f206-4eec-a22b-833f61504444",
   "metadata": {},
   "source": [
    "__Explain and justify your method in doing for the three previous objectives__\n",
    "\n",
    "- Answer:"
   ]
  },
  {
   "cell_type": "markdown",
   "id": "9fce5665-2a8d-435c-bc8a-3b9aad880411",
   "metadata": {},
   "source": [
    "Define a class of books and a super class of audiobooks with attributes and functions unique that don't exist for all books (just choose a few that you think are reasonable)."
   ]
  },
  {
   "cell_type": "code",
   "execution_count": null,
   "id": "11428a15-8e29-42f4-be15-71d637221365",
   "metadata": {},
   "outputs": [],
   "source": []
  },
  {
   "cell_type": "code",
   "execution_count": null,
   "id": "12c7ae69-6801-47c7-87e8-3503e07f0be1",
   "metadata": {},
   "outputs": [],
   "source": []
  },
  {
   "cell_type": "markdown",
   "id": "0b00fa4c-35ec-4697-99db-d493f19cbbdc",
   "metadata": {},
   "source": [
    "## Task 4: Numpy and Matplotlib"
   ]
  },
  {
   "cell_type": "markdown",
   "id": "7e8bd2d5-a126-4e64-aec5-0ffed9239116",
   "metadata": {},
   "source": [
    "Create a random 3x4x6 array of random numbers drawn from a standard normal distribution"
   ]
  },
  {
   "cell_type": "code",
   "execution_count": null,
   "id": "bef0fead-2f62-4ed3-a2e1-d1bab514b69b",
   "metadata": {},
   "outputs": [],
   "source": []
  },
  {
   "cell_type": "markdown",
   "id": "84dbe6c3-ad1e-46e4-915d-537e6b8c1181",
   "metadata": {},
   "source": [
    "Add uniform noise from [0, 1) to the below array. Plot the original array and the resulting array in a 2x1 subplot. Give the plot colorbars, labels, and just generally make it look nice."
   ]
  },
  {
   "cell_type": "code",
   "execution_count": 43,
   "id": "e0961284-e7ba-4966-8193-94f62a759580",
   "metadata": {},
   "outputs": [],
   "source": [
    "initial_array = np.ones((45, 63))"
   ]
  },
  {
   "cell_type": "code",
   "execution_count": null,
   "id": "d126b9ae-0cf4-4a17-bddc-af52e1e72d7d",
   "metadata": {},
   "outputs": [],
   "source": []
  },
  {
   "cell_type": "markdown",
   "id": "8b08ccbd-2cff-4321-8e81-ce2e2724577d",
   "metadata": {},
   "source": [
    "Make the resulting array 1D and plot a histogram."
   ]
  },
  {
   "cell_type": "code",
   "execution_count": null,
   "id": "ecb3b310-1f91-4fbb-a109-bd26d1fd32dd",
   "metadata": {},
   "outputs": [],
   "source": []
  },
  {
   "cell_type": "markdown",
   "id": "d1673760-1550-4810-ba63-e250efd73f6f",
   "metadata": {},
   "source": [
    "Plot the below array. Overlay contours with contour labels. Make the plot pretty and readable."
   ]
  },
  {
   "cell_type": "code",
   "execution_count": 81,
   "id": "720b49e6-ea82-46b9-a603-e1656517369e",
   "metadata": {},
   "outputs": [],
   "source": [
    "my_array = np.array([\n",
    "                     np.array([i * (j + int(j % 2 == 0)) for j in range(10)])\n",
    "                     for i in range(10)]\n",
    "                   ) ** (3. / 4.)"
   ]
  },
  {
   "cell_type": "markdown",
   "id": "4a088b53-b344-43f8-bef0-57cd118d883d",
   "metadata": {},
   "source": [
    "__Describe how the values in the array are calculated. What are the minimum, maximum, and mean values?__\n",
    "\n",
    "- Answer:"
   ]
  },
  {
   "cell_type": "markdown",
   "id": "6b095b7c-0c2d-4e40-84a3-3894e179b98f",
   "metadata": {},
   "source": [
    "Using the below data, fit a cubic polynomial. Plot the original (scatter) and fit data (line plot). Make sure they're labeled."
   ]
  },
  {
   "cell_type": "code",
   "execution_count": 71,
   "id": "110e7bf8-b7af-44c0-897b-0462ef773c84",
   "metadata": {},
   "outputs": [],
   "source": [
    "def make_data(x: float, \n",
    "              a: float = 3., b: float = 1., c: float = 0., d: float = 3,\n",
    "             ) -> float:\n",
    "    \"\"\"General cubic function\"\"\"\n",
    "    return a * x ** 3 + b * x ** 2 + c * x + d"
   ]
  },
  {
   "cell_type": "markdown",
   "id": "614c508f-233a-4fb9-971e-fea3b4e7f1ed",
   "metadata": {},
   "source": [
    "__Add comments to the below cell describing what I'm doing with each line__"
   ]
  },
  {
   "cell_type": "code",
   "execution_count": 72,
   "id": "b7870bec-714b-4d0d-af9d-67d23d559ebb",
   "metadata": {},
   "outputs": [],
   "source": [
    "x = np.linspace(-10, 10, 1000)\n",
    "y = make_data(x)\n",
    "y += 100. * np.random.rayleigh(size=y.shape)"
   ]
  },
  {
   "cell_type": "code",
   "execution_count": null,
   "id": "b198c82a-c210-42dd-b2a6-3b8fd077e2fa",
   "metadata": {},
   "outputs": [],
   "source": []
  },
  {
   "cell_type": "code",
   "execution_count": null,
   "id": "694155bd-1fe4-4654-9ef1-0bde93d1f353",
   "metadata": {},
   "outputs": [],
   "source": []
  },
  {
   "cell_type": "markdown",
   "id": "2d09b34c-f5b5-4b69-b250-ccd37f1b9402",
   "metadata": {},
   "source": [
    "Make a plot of the fit error with a line that denotes a perfect fit. Calculate the mean-squared error and display on the plot."
   ]
  },
  {
   "cell_type": "code",
   "execution_count": null,
   "id": "a0cf7d38-71ff-4b19-917a-26950943c194",
   "metadata": {},
   "outputs": [],
   "source": []
  },
  {
   "cell_type": "code",
   "execution_count": null,
   "id": "ec13c15a-1591-4a45-932c-b356937b2cb6",
   "metadata": {},
   "outputs": [],
   "source": []
  }
 ],
 "metadata": {
  "kernelspec": {
   "display_name": "Python 3 (ipykernel)",
   "language": "python",
   "name": "python3"
  },
  "language_info": {
   "codemirror_mode": {
    "name": "ipython",
    "version": 3
   },
   "file_extension": ".py",
   "mimetype": "text/x-python",
   "name": "python",
   "nbconvert_exporter": "python",
   "pygments_lexer": "ipython3",
   "version": "3.10.15"
  }
 },
 "nbformat": 4,
 "nbformat_minor": 5
}
